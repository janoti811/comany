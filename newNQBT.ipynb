{
  "nbformat": 4,
  "nbformat_minor": 0,
  "metadata": {
    "colab": {
      "provenance": []
    },
    "kernelspec": {
      "name": "python3",
      "display_name": "Python 3"
    },
    "language_info": {
      "name": "python"
    }
  },
  "cells": [
    {
      "cell_type": "markdown",
      "source": [
        "5. Design n-Queens matrix having first Queen placed. Use backtracking to place remaining\n",
        "Queens to generate the final n-queen‘s matrix."
      ],
      "metadata": {
        "id": "nLKWzgG8-oAL"
      }
    },
    {
      "cell_type": "code",
      "source": [
        "N = 4\n",
        "ld = [0] * 30\n",
        "rd = [0] * 30\n",
        "cl = [0] * 30\n",
        "def printSolution(board):\n",
        "\tfor i in range(N):\n",
        "\t\tfor j in range(N):\n",
        "\t\t\tprint(board[i][j], end = \" \")\n",
        "\t\tprint()\n",
        "def solveNQUtil(board, col):\n",
        "\tif (col >= N):\n",
        "\t\treturn True\n",
        "\tfor i in range(N):\n",
        "\t\tif ((ld[i - col + N - 1] != 1 and\n",
        "\t\t\trd[i + col] != 1) and cl[i] != 1):\n",
        "\t\t\tboard[i][col] = 1\n",
        "\t\t\tld[i - col + N - 1] = rd[i + col] = cl[i] = 1\n",
        "\t\t\tif (solveNQUtil(board, col + 1)):\n",
        "\t\t\t\treturn True\n",
        "\t\t\tboard[i][col] = 0 # BACKTRACK\n",
        "\t\t\tld[i - col + N - 1] = rd[i + col] = cl[i] = 0\n",
        "\treturn False\n",
        "def solveNQ():\n",
        "\tboard = [[0, 0, 0, 0],\n",
        "\t\t\t[0, 0, 0, 0],\n",
        "\t\t\t[0, 0, 0, 0],\n",
        "\t\t\t[0, 0, 0, 0]]\n",
        "\tif (solveNQUtil(board, 0) == False):\n",
        "\t\tprintf(\"Solution does not exist\")\n",
        "\t\treturn False\n",
        "\tprintSolution(board)\n",
        "\treturn True\n",
        "# Driver Code\n",
        "solveNQ()\n",
        "\n",
        "\n"
      ],
      "metadata": {
        "colab": {
          "base_uri": "https://localhost:8080/"
        },
        "id": "hvyAKjq5CRqX",
        "outputId": "875fd51c-efe3-4ffb-bab2-00c1b0602a8e"
      },
      "execution_count": 1,
      "outputs": [
        {
          "output_type": "stream",
          "name": "stdout",
          "text": [
            "0 0 1 0 \n",
            "1 0 0 0 \n",
            "0 0 0 1 \n",
            "0 1 0 0 \n"
          ]
        },
        {
          "output_type": "execute_result",
          "data": {
            "text/plain": [
              "True"
            ]
          },
          "metadata": {},
          "execution_count": 1
        }
      ]
    }
  ]
}