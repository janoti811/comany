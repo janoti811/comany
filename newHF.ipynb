{
  "cells": [
    {
      "cell_type": "markdown",
      "metadata": {
        "id": "NNqehsIy33ft"
      },
      "source": [
        "2. Write a program to implement Huffman Encoding using a greedy strategy."
      ]
    },
    {
      "cell_type": "code",
      "execution_count": 1,
      "metadata": {
        "colab": {
          "base_uri": "https://localhost:8080/"
        },
        "id": "s96r_mf334NP",
        "outputId": "7d13ea1f-adaf-4f0b-d557-1af79f46fde4"
      },
      "outputs": [
        {
          "output_type": "stream",
          "name": "stdout",
          "text": [
            "f ->  0\n",
            "c ->  100\n",
            "d ->  101\n",
            "a ->  1100\n",
            "b ->  1101\n",
            "e ->  111\n"
          ]
        }
      ],
      "source": [
        "import heapq\n",
        "class node:\n",
        "  def __init__(self, freq, symbol, left=None, right=None):\n",
        "    self.freq = freq\n",
        "    self.symbol = symbol\n",
        "    self.left = left\n",
        "    self.right = right\n",
        "    self.huff = ' '\n",
        "  def __lt__(self, nxt):\n",
        "    return self.freq < nxt.freq\n",
        "def printNodes(node, val=''):\n",
        "  newVal = val + str(node.huff)\n",
        "  if(node.left):\n",
        "    printNodes(node.left, newVal)\n",
        "  if(node.right):\n",
        "    printNodes(node.right, newVal)\n",
        "  if(not node.left and not node.right):\n",
        "    print(f\"{node.symbol} -> {newVal}\")\n",
        "chars = ['a', 'b', 'c', 'd', 'e', 'f']\n",
        "freq = [ 5, 9, 12, 13, 16, 45]\n",
        "nodes = []\n",
        "for x in range(len(chars)):\n",
        "  heapq.heappush(nodes, node(freq[x], chars[x]))\n",
        "while len(nodes) > 1:\n",
        "  left = heapq.heappop(nodes)\n",
        "  right = heapq.heappop(nodes)\n",
        "  left.huff = 0 \n",
        "  right.huff = 1\n",
        "  newNode = node(left.freq+right.freq, left.symbol+right.symbol, left, right)\n",
        "  heapq.heappush(nodes, newNode)\n",
        "printNodes(nodes[0]) \n"
      ]
    }
  ],
  "metadata": {
    "colab": {
      "provenance": []
    },
    "kernelspec": {
      "display_name": "Python 3 (ipykernel)",
      "language": "python",
      "name": "python3"
    },
    "language_info": {
      "codemirror_mode": {
        "name": "ipython",
        "version": 3
      },
      "file_extension": ".py",
      "mimetype": "text/x-python",
      "name": "python",
      "nbconvert_exporter": "python",
      "pygments_lexer": "ipython3",
      "version": "3.9.7"
    }
  },
  "nbformat": 4,
  "nbformat_minor": 0
}